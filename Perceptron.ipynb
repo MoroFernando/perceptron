{
  "nbformat": 4,
  "nbformat_minor": 0,
  "metadata": {
    "colab": {
      "provenance": [],
      "authorship_tag": "ABX9TyNr44Xg4vG2bjm3jY1BFrZe",
      "include_colab_link": true
    },
    "kernelspec": {
      "name": "python3",
      "display_name": "Python 3"
    },
    "language_info": {
      "name": "python"
    }
  },
  "cells": [
    {
      "cell_type": "markdown",
      "metadata": {
        "id": "view-in-github",
        "colab_type": "text"
      },
      "source": [
        "<a href=\"https://colab.research.google.com/github/MoroFernando/perceptron/blob/main/Perceptron.ipynb\" target=\"_parent\"><img src=\"https://colab.research.google.com/assets/colab-badge.svg\" alt=\"Open In Colab\"/></a>"
      ]
    },
    {
      "cell_type": "markdown",
      "source": [
        "A ideia deste notebook é construir uma rede neural básica a fim de entender seu funcionamento. Começaremos construindo primeiro um Perceptron simples, e posteriormente agrupalos em uma rede multilayer (MLP)"
      ],
      "metadata": {
        "id": "sOLPWD-qi_Wh"
      }
    },
    {
      "cell_type": "code",
      "source": [
        "# Definimos alguns imports necessários\n",
        "import random # Importa número aleatórios"
      ],
      "metadata": {
        "id": "cKbnxTJ9oMGz"
      },
      "execution_count": 229,
      "outputs": []
    },
    {
      "cell_type": "markdown",
      "source": [
        "# Perceptron: a estrutura básica"
      ],
      "metadata": {
        "id": "h5LmV2q4zf_R"
      }
    },
    {
      "cell_type": "code",
      "source": [
        "class Perceptron:\n",
        "  def __init__(self, num_weights):\n",
        "    self.weights = [random.uniform(-1, 1) for _ in range(num_weights)] # Inicia o Perceptron criando atributos de peso com valores aleatórios entre -1 e 1. Ex: [-0.87, -0.02, 0.56]\n",
        "    self.bias = random.uniform(-1, 1) # Cria um número alea'torio para o bias também\n",
        "\n",
        "  # Derfine um funcão step (degrau). Esta função será usada como funcão de ativaçao do nosso Perceptron\n",
        "  def step(self, input):\n",
        "    if input > 0:\n",
        "      return 1\n",
        "    else:\n",
        "      return 0\n",
        "\n",
        "  # Método usado para prever o resultado com base nos dados de entrada\n",
        "  def predict(self, value):\n",
        "    input = 0\n",
        "    # Soma todos os valores de entrada multiplicados pelos respectivos pesos\n",
        "    for idx, weight in enumerate(self.weights):\n",
        "      input += value[idx] * weight\n",
        "    # Adiciona o valor do bias\n",
        "    input += self.bias\n",
        "    return self.step(input)"
      ],
      "metadata": {
        "id": "tsIzHvT3i-c3"
      },
      "execution_count": 230,
      "outputs": []
    },
    {
      "cell_type": "code",
      "source": [
        "# Cria um Perceptron com 3 parametros\n",
        "perceptron = Perceptron(3)"
      ],
      "metadata": {
        "id": "HSElNz8NuB9X"
      },
      "execution_count": 231,
      "outputs": []
    },
    {
      "cell_type": "markdown",
      "source": [
        "Para exemplificar o uso do nosso Perceptron, vamos modelar um problema simples do dia a dia:\n",
        "\n",
        "### **\"Devo levar um guarda-chuva hoje?\"**\n",
        "\n",
        "Para tomar essa decisão, podemos considerar alguns fatores importantes que servirão como entradas para o nosso Perceptron:\n",
        "\n",
        "*   **x1 = Está chovendo agora?** (0 para Não, 1 para Sim)\n",
        "*   **x2 = Há previsão de chuva para hoje?** (0 para Não, 1 para Sim)\n",
        "*   **x3 = O céu está nublado ou escuro?** (0 para Não, 1 para Sim)\n",
        "\n",
        "Com base na combinação dessas três informações, nosso Perceptron de 3 parâmetros deverá nos ajudar a decidir se devemos ou não levar o guarda-chuva. Por meio de uma resposta binária: (0 para Não levar, 1 para Levar).\n",
        "\n",
        "O Perceptron em sí não tem capacidade de interpetrar as informações (x1, x2, x3) da forma que nós humanos fazemos. Porém ele poderá atribuir um significado númerico por meio dos seus parâmetros de modo a atribuir a cada informação (x) um parâmetro (peso) específico. Assim conseguindo fazer com que parâmetros com pesos maiores, impactem mais no resultado final. Da mesma forma que se \"estiver chovendo\", as demais informaçoes de \"previsão de chuva\" ou \"céu escuro\" não importarem tanto, pois já irei levar o guarda chuva de qualquer forma."
      ],
      "metadata": {
        "id": "X5ZY4G8gsic2"
      }
    },
    {
      "cell_type": "code",
      "source": [
        "# Dados de entrada (X) e saída esperada (y) para o problema do guarda-chuva.\n",
        "# As entradas são: [Está chovendo agora (x1), Há previsão de chuva (x2), O céu está nublado (x3)]\n",
        "# A saída esperada (y) é: 1 para \"Levar guarda-chuva\", 0 para \"Não levar guarda-chuva\"\n",
        "\n",
        "\n",
        "# Por ser um problema pequeno de apenas 3 variáveis, podemos ilustrar todas as combinações possíveis na lista abaixo:\n",
        "X = [\n",
        "  [0, 0, 0], # Não chove, sem previsão, céu claro\n",
        "  [0, 0, 1], # Não chove, sem previsão, céu escuro\n",
        "  [0, 1, 0], # Não chove, com previsão, céu claro\n",
        "  [0, 1, 1], # Não chove, com previsão, céu escuro\n",
        "  [1, 0, 0], # Chovendo, sem previsão, céu claro\n",
        "  [1, 0, 1], # Chovendo, sem previsão, céu escuro\n",
        "  [1, 1, 0], # Chovendo, com previsão, céu claro\n",
        "  [1, 1, 1],  # Chovendo, com previsão, céu escuro\n",
        "]\n",
        "\n",
        "y = [\n",
        "    0, # Não chove, não tem previsão, céu claro -> Não leva\n",
        "    0, # Não chove, não tem previsão, céu escuro -> Não leva\n",
        "    0, # Não chove, tem previsão, céu claro -> Não leva\n",
        "    1, # Não chove, tem previsão, céu escuro -> Leva\n",
        "    1, # Chove, não tem previsão, céu claro -> Leva\n",
        "    1, # Chove, não tem previsão, céu escuro -> Leva\n",
        "    1, # Chove, tem previsão, céu claro -> Leva\n",
        "    1, # Chove, tem previsão, céu escuro -> Leva\n",
        "]\n",
        "\n",
        "\n",
        "# Comumente representamos os dados pela letra \"X\" e os resultados esperados pela letra \"y\", de modo que ambas as listas terão o mesmo tamanho.\n",
        "# Assim para saber qual seria a resposta esperada para o Problema X[índice], basta acessar a resposta ou label em y[índice]"
      ],
      "metadata": {
        "id": "gtO3wAHQjoTf"
      },
      "execution_count": 232,
      "outputs": []
    },
    {
      "cell_type": "markdown",
      "source": [
        "Quando criamos nosso percetron, os valores dos seus parâmetros foram criados de forma aleatória. Ou seja, é como se ele não \"soubesse\" qual das informacões tem maior impacto na decisão final de levar ou não o guarda chuva\n",
        "\n",
        "Se pedirmos a ele para prever se devmos levar o guarda chuva ou não, passando as 3 informações necessárias, ele irá computar o resultado com base nese valores de parâmetros inicias.\n",
        "\n",
        "Vamos pedir para nos dizer se devemos ou não levar o guarda chuva se estiver chovendo, com previsão de chuva e o céu estando escuro."
      ],
      "metadata": {
        "id": "LCX1sswsv_Ni"
      }
    },
    {
      "cell_type": "code",
      "source": [
        "# Definimos qual o índice dos dados \"X\" contém esse exemplo que queremos trabalhar, que no caso é o índice = 7\n",
        "idx = 7\n",
        "\n",
        "# Agora podemos chamar o método de prever uma reposta com base em uma entrada do perceptron\n",
        "resposta = perceptron.predict(X[idx])\n",
        "\n",
        "print(resposta)"
      ],
      "metadata": {
        "colab": {
          "base_uri": "https://localhost:8080/"
        },
        "id": "bNyqBXceroSM",
        "outputId": "723651f1-04b6-4c35-c275-b3c1a29f905f"
      },
      "execution_count": 233,
      "outputs": [
        {
          "output_type": "stream",
          "name": "stdout",
          "text": [
            "0\n"
          ]
        }
      ]
    },
    {
      "cell_type": "markdown",
      "source": [
        "Pelo fato de os parâmetros serem definidos de forma aletória na hora de criar o Perceptron, não temos como prever qual resposta ele nos dará de início, podendo tanto responder algo aparentemente correto para o nosso problema do Guarda Chuva, como por exemplo não leva-lo em um dia ensolarado sem chuva, mas também responder para não leva-lo em um dia chuvoso.\n",
        "\n",
        "Para tronar o nosso Perceptron mais \"inteligente\", vamos treiná-lo para que possa responder com mais precisão ao nosso problema do Guarda Chuva\n",
        "\n",
        "---"
      ],
      "metadata": {
        "id": "xLuMA1KZx1iq"
      }
    },
    {
      "cell_type": "markdown",
      "source": [
        "# Treinamento do Perceptron"
      ],
      "metadata": {
        "id": "ZFcgBEclztgU"
      }
    },
    {
      "cell_type": "markdown",
      "source": [
        "O processo de treinamento de um Perceptron acontece pelo ato de passarmos uma grande quantidade de dados por várias vezes em sequência, de modo que em cada iteração, o Perceptron poderá \"comparar\" o resultado que ele deu, com o resultado que esperávamos e categorizamos como certo. Para essa abordagem de treinamento damos o nome de\n",
        "\n",
        "####**Treinamento supervisionado**.\n",
        "\n",
        "Supervisionado por que nós que dizemos de antemão qual é a resposta certa para determinado conjundo de informações iniciais. É como se falassemos: \"Se não estiver chovendo **(x1 = 0)**, sem previsão de chuva **(x2 = 0)**, e com o céu claro **(x3 = 0)**. Não precisamos levar o guarda chuva **(y = 0)**\"\n",
        "\n",
        "Fazemos essa iteração para todos os dados do nosso conjunto, no nosso caso, o \"X\". E fazemos essa iteração sobres todos os dados mais de uma vez, como se fosse dar voltas em uma pista de corrida, cada \"volta\" chamamos de **época**.\n",
        "\n",
        "Toda vez que o Perceptron responder errado durante o treinamento, ele deve ajustar os seus parâmetros a fim de tentar minimizar o erro. Esse ajuste segue uma fórmula matemática que não entrarei em detalhes aqui, porém para saber o \"quanto\" deve ser ajustado para cada erro, o Perceptron precisa ter alguma informação que diga o nível de ajuste a ser feito. Para isso damos o nome de **Taxa de aprendizado**."
      ],
      "metadata": {
        "id": "yS6CQlmcz1Ks"
      }
    },
    {
      "cell_type": "code",
      "source": [
        "# Aqui vamos reutilizar a classe Percetron construída anteriormente, porém com a adição de novos atributos e metódos necessários para o treinamento ocorrer.\n",
        "class Perceptron:\n",
        "  def __init__(self, num_weights):\n",
        "    self.weights = [random.uniform(-1, 1) for _ in range(num_weights)]\n",
        "    self.bias = random.uniform(-1, 1)\n",
        "\n",
        "  def step(self, input):\n",
        "    if input > 0:\n",
        "      return 1\n",
        "    else:\n",
        "      return 0\n",
        "\n",
        "  def predict(self, value):\n",
        "    input = 0\n",
        "    for idx, weight in enumerate(self.weights):\n",
        "      input += value[idx] * weight\n",
        "    input += self.bias\n",
        "    return self.step(input)\n",
        "\n",
        "  # Definimos um metodo de treinamento que recebe as series de informaçoes (data) e gabarito das repostas (labels) além de também a informação de quantas épocas queremos utilizar e qual a taxa de aprendizado\n",
        "  def fit(self, data, labels, epochs = 10, learning_rate = 0.1):\n",
        "    # Percorre cada epoca que definimos\n",
        "    for epoch in range(epochs):\n",
        "      # Para cada época, percorremos todos os dados\n",
        "      for idx, value in enumerate(data):\n",
        "        label = labels[idx]\n",
        "        # Faz a predicao\n",
        "        predict = self.predict(value)\n",
        "        # Calcula o erro em relacao ao label\n",
        "        error = label - predict\n",
        "\n",
        "        # Ajuste os parametros em caso de erro\n",
        "        if error != 0:\n",
        "          # Percorre cada parametro do Perceptron para realizar o ajuste\n",
        "          for i in range(len(self.weights)):\n",
        "            self.weights[i] = self.adjust_weight(self.weights[i], error, value[i], learning_rate)\n",
        "          # Ajusta o bias\n",
        "          self.bias = self.adjust_weight(self.bias, error, 1, learning_rate)\n",
        "\n",
        "  # Função de ajuste do parâmetro\n",
        "  def adjust_weight(self, weight, error, value, learning_rate):\n",
        "    return weight + (learning_rate * error * value)\n",
        ""
      ],
      "metadata": {
        "id": "TASzCOPYxh1t"
      },
      "execution_count": 239,
      "outputs": []
    },
    {
      "cell_type": "code",
      "source": [
        "# Instanciamos novamente o perceptron agora contendo o método de treinamento\n",
        "perceptron = Perceptron(3)\n",
        "\n",
        "# Chamamos o método de treinamento. Não passaremos o valor para épocas e taxa de aprendizado, assim o Perceptron usará os valores padrão\n",
        "perceptron.fit(X, y)"
      ],
      "metadata": {
        "id": "Yx3_Q35c7IOP"
      },
      "execution_count": 235,
      "outputs": []
    },
    {
      "cell_type": "markdown",
      "source": [
        "Agora que realizamos o treinamento, vamos tentar fazer uma nova previsão com o Perceptron. Vamos utilizar as mesmas informações de antes."
      ],
      "metadata": {
        "id": "b8rhP9WpEf3B"
      }
    },
    {
      "cell_type": "code",
      "source": [
        "idx = 7\n",
        "resposta = perceptron.predict(X[idx])\n",
        "print(resposta)"
      ],
      "metadata": {
        "colab": {
          "base_uri": "https://localhost:8080/"
        },
        "id": "TeSicNfMEbZF",
        "outputId": "6a023504-2d2e-4f54-e227-cdbf30625fb9"
      },
      "execution_count": 236,
      "outputs": [
        {
          "output_type": "stream",
          "name": "stdout",
          "text": [
            "1\n"
          ]
        }
      ]
    },
    {
      "cell_type": "markdown",
      "source": [
        "Agora o Perceptron conseguiu prever corretamente. Porém ainda não sabemos extamente se foi ao acaso, ou treinamento de fato foi bom o suficiente para ele acertar outros resultados. Para isso vamos pdeir para que ele preveja as repostas para todos os nossos dados \"X\", e na sequência comparamos todas as repostas com o gabarito \"y\" que temos, assim conseguimos dizer quantos porcento o Perceptron foi capaz de responder corretamente."
      ],
      "metadata": {
        "id": "lz7BOyBHEybS"
      }
    },
    {
      "cell_type": "code",
      "source": [
        "# Iniciamos definindo uma llista onde será armazenado as previsões feitas pelo Perceptron\n",
        "predictions = []\n",
        "\n",
        "# Agora percorremos cada dado no nosso conjunto de dados X e fazemos a predicão\n",
        "for i in range(len(X)):\n",
        "  predictions.append(perceptron.predict(X[i]))\n",
        "\n",
        "# Contamos o número de acerto comparando as predicões do Perceptron com nosso gabarito \"y\"\n",
        "correct_predictions = 0\n",
        "for i in range(len(y)):\n",
        "  if predictions[i] == y[i]:\n",
        "    correct_predictions += 1\n",
        "\n",
        "# Calculamos a porcentagem de acerto\n",
        "accuracy = correct_predictions / len(y)\n",
        "\n",
        "print(f'Número de acertos: {correct_predictions}')\n",
        "print(f'Número de testes: {len(y)}')\n",
        "print(f'Porcentagem de acertos: {accuracy}')"
      ],
      "metadata": {
        "colab": {
          "base_uri": "https://localhost:8080/"
        },
        "id": "GfiAMqQsFS2-",
        "outputId": "c915eaa3-5b42-4ef9-ee51-304f5214abee"
      },
      "execution_count": 237,
      "outputs": [
        {
          "output_type": "stream",
          "name": "stdout",
          "text": [
            "Número de acertos: 8\n",
            "Número de testes: 8\n",
            "Porcentagem de acertos: 1.0\n"
          ]
        }
      ]
    }
  ]
}